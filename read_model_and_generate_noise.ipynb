{
 "cells": [
  {
   "cell_type": "code",
   "execution_count": null,
   "id": "ebcb9f8c-95fe-4bed-8396-7bf9afde48b8",
   "metadata": {},
   "outputs": [],
   "source": [
    "import torch\n",
    "import torch.nn as nn\n",
    "from matplotlib import pyplot as plt\n",
    "from torchvision.utils import make_grid\n",
    "import numpy as np"
   ]
  },
  {
   "cell_type": "code",
   "execution_count": 2,
   "id": "29062289-d60a-418d-a284-29522730ed9c",
   "metadata": {},
   "outputs": [],
   "source": [
    "device = 'cuda:0' if torch.cuda.is_available() else 'cpu'"
   ]
  },
  {
   "cell_type": "code",
   "execution_count": 3,
   "id": "8b8396c4-0023-4182-8330-cba3b926a972",
   "metadata": {},
   "outputs": [],
   "source": [
    "class Generator(nn.Module):\n",
    "    def __init__(self):\n",
    "        super(Generator, self).__init__()\n",
    "        self.n_features = 36\n",
    "        self.n_out = 36\n",
    "        self.model = nn.Sequential(\n",
    "            nn.Linear(self.n_features, 256),\n",
    "            nn.LeakyReLU(0.01),\n",
    "            nn.Linear(256, 512),\n",
    "            nn.LeakyReLU(0.01),\n",
    "            nn.Linear(512, 1024),\n",
    "            nn.LeakyReLU(0.01),\n",
    "            nn.Linear(1024, 512),\n",
    "            nn.LeakyReLU(0.01),\n",
    "            nn.Linear(512, 256),\n",
    "            nn.LeakyReLU(0.01),\n",
    "            nn.Linear(256, self.n_out),\n",
    "            nn.Sigmoid()\n",
    "        )\n",
    "\n",
    "    def forward(self, x):\n",
    "        return self.model(x)\n",
    "\n",
    "def row(n, n_features=1, device='cpu'):\n",
    "    random0 = np.random.rand(n, 1) * 2 * np.pi\n",
    "    forarray = np.arange(n_features)\n",
    "    forones = np.ones((n, n_features))\n",
    "    forrandarray = forarray * forones\n",
    "    randarray = random0 * forrandarray \n",
    "    random1 = np.random.rand(n, 1) * 2 * np.pi\n",
    "    output2 = random1 + randarray\n",
    "    output3 = np.cos(output2) * 0.5 + 0.5\n",
    "    return torch.from_numpy(output3.astype(np.float32)).to(device)"
   ]
  },
  {
   "cell_type": "code",
   "execution_count": null,
   "id": "c6f5b9be-0d64-4dfa-bc37-35abc24ccf88",
   "metadata": {},
   "outputs": [],
   "source": [
    "# Create an instance of the generator model and load parameters\n",
    "generator = Generator().to(device)\n",
    "generator.load_state_dict(torch.load('LearnedPRNG_NIST_passed.pth', map_location=device))\n",
    "generator.eval()"
   ]
  },
  {
   "cell_type": "code",
   "execution_count": 12,
   "id": "eaa204fe-89a7-4f45-aa06-f4de9bcdb2de",
   "metadata": {},
   "outputs": [],
   "source": [
    "# Generate noise\n",
    "num_images = 64\n",
    "n_features = 36\n",
    "noise_input = row(num_images, n_features, device=device)\n",
    "generated_images = generator(noise_input).cpu().detach()"
   ]
  },
  {
   "cell_type": "code",
   "execution_count": 13,
   "id": "caa52360-adf3-401c-ad0f-18f6e08a65be",
   "metadata": {},
   "outputs": [
    {
     "data": {
      "image/png": "[encoded data removed]",
      "text/plain": [
       "<Figure size 640x480 with 1 Axes>"
      ]
     },
     "metadata": {},
     "output_type": "display_data"
    }
   ],
   "source": [
    "# Plot image\n",
    "grid_img = make_grid(generated_images.view(-1, 1, 6, 6), nrow=8, normalize=True)\n",
    "plt.imshow(grid_img.permute(1, 2, 0).numpy(), cmap='gray')\n",
    "plt.title('Generated Images')\n",
    "plt.axis('off')\n",
    "plt.show()"
   ]
  },
  {
   "cell_type": "code",
   "execution_count": 15,
   "id": "143be495-1b01-4262-8edb-4f457b96d6bb",
   "metadata": {},
   "outputs": [],
   "source": [
    "# Generates enough random numbers for NIST testing\n",
    "num_images = 64\n",
    "n_features = 36\n",
    "noise_input = row(num_images, n_features, device=device)\n",
    "with open('output_10.txt', 'a') as output:\n",
    "    for num in range(80000):\n",
    "        rand_img = generator(noise_input).cpu().detach().numpy().copy().flatten() \n",
    "        np.savetxt(output,rand_img)"
   ]
  },
  {
   "cell_type": "code",
   "execution_count": 17,
   "id": "6975d555-9ca0-4e1e-b8e1-30073161bd87",
   "metadata": {},
   "outputs": [],
   "source": [
    "#Code to convert a random number in decimal to a random number in binary\n",
    "from ctypes import *\n",
    "class POINT(Union):\n",
    "    _fields_ = [(\"x\", c_float), (\"y\", c_uint)]\n",
    "       \n",
    "read_data = open('output_10.txt', 'r')\n",
    "write_data = open('output_2.txt', 'w')\n",
    "\n",
    "for line in read_data:\n",
    "\n",
    "    point = POINT(float(line))\n",
    "    write_data.write(bin(point.y)[13:20])\n",
    "\n",
    "\n",
    "read_data.close()\n",
    "write_data.close()"
   ]
  },
  {
   "cell_type": "code",
   "execution_count": null,
   "id": "92f0c5e1-d213-4c96-b098-18f3731c5858",
   "metadata": {},
   "outputs": [],
   "source": []
  }
 ],
 "metadata": {
  "kernelspec": {
   "display_name": "Python 3 (ipykernel)",
   "language": "python",
   "name": "python3"
  },
  "language_info": {
   "codemirror_mode": {
    "name": "ipython",
    "version": 3
   },
   "file_extension": ".py",
   "mimetype": "text/x-python",
   "name": "python",
   "nbconvert_exporter": "python",
   "pygments_lexer": "ipython3",
   "version": "3.10.8"
  }
 },
 "nbformat": 4,
 "nbformat_minor": 5
}
