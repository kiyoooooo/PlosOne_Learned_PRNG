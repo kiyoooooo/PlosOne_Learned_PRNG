{
 "cells": [
  {
   "cell_type": "code",
   "execution_count": 21,
   "id": "ebcb9f8c-95fe-4bed-8396-7bf9afde48b8",
   "metadata": {},
   "outputs": [],
   "source": [
    "import torch\n",
    "import torch.nn as nn\n",
    "from matplotlib import pyplot as plt\n",
    "from torchvision.utils import make_grid\n",
    "import numpy as np"
   ]
  },
  {
   "cell_type": "code",
   "execution_count": 22,
   "id": "29062289-d60a-418d-a284-29522730ed9c",
   "metadata": {},
   "outputs": [],
   "source": [
    "device = 'cuda:0' if torch.cuda.is_available() else 'cpu'"
   ]
  },
  {
   "cell_type": "code",
   "execution_count": 23,
   "id": "8b8396c4-0023-4182-8330-cba3b926a972",
   "metadata": {},
   "outputs": [],
   "source": [
    "class Generator(nn.Module):\n",
    "    def __init__(self):\n",
    "        super(Generator, self).__init__()\n",
    "        self.n_features = 36\n",
    "        self.n_out = 36\n",
    "        self.model = nn.Sequential(\n",
    "            nn.Linear(self.n_features, 256),\n",
    "            nn.LeakyReLU(0.01),\n",
    "            nn.Linear(256, 512),\n",
    "            nn.LeakyReLU(0.01),\n",
    "            nn.Linear(512, 1024),\n",
    "            nn.LeakyReLU(0.01),\n",
    "            nn.Linear(1024, 512),\n",
    "            nn.LeakyReLU(0.01),\n",
    "            nn.Linear(512, 256),\n",
    "            nn.LeakyReLU(0.01),\n",
    "            nn.Linear(256, self.n_out),\n",
    "            nn.Sigmoid()\n",
    "        )\n",
    "\n",
    "    def forward(self, x):\n",
    "        return self.model(x)\n"
   ]
  },
  {
   "cell_type": "code",
   "execution_count": 24,
   "id": "c6f5b9be-0d64-4dfa-bc37-35abc24ccf88",
   "metadata": {},
   "outputs": [
    {
     "data": {
      "text/plain": [
       "Generator(\n",
       "  (model): Sequential(\n",
       "    (0): Linear(in_features=36, out_features=256, bias=True)\n",
       "    (1): LeakyReLU(negative_slope=0.01)\n",
       "    (2): Linear(in_features=256, out_features=512, bias=True)\n",
       "    (3): LeakyReLU(negative_slope=0.01)\n",
       "    (4): Linear(in_features=512, out_features=1024, bias=True)\n",
       "    (5): LeakyReLU(negative_slope=0.01)\n",
       "    (6): Linear(in_features=1024, out_features=512, bias=True)\n",
       "    (7): LeakyReLU(negative_slope=0.01)\n",
       "    (8): Linear(in_features=512, out_features=256, bias=True)\n",
       "    (9): LeakyReLU(negative_slope=0.01)\n",
       "    (10): Linear(in_features=256, out_features=36, bias=True)\n",
       "    (11): Sigmoid()\n",
       "  )\n",
       ")"
      ]
     },
     "execution_count": 24,
     "metadata": {},
     "output_type": "execute_result"
    }
   ],
   "source": [
    "# Create an instance of the generator model and load parameters\n",
    "generator = Generator().to(device)\n",
    "generator.load_state_dict(torch.load('../model/LearnedPRNG_NIST_passed.pth', map_location=device))\n",
    "generator.eval()"
   ]
  },
  {
   "cell_type": "code",
   "execution_count": 25,
   "id": "6c1d379c-b93e-4dc8-982b-d1046eacf488",
   "metadata": {},
   "outputs": [],
   "source": [
    "def sample_input(n_features=1, device='cpu'):\n",
    "    fixed_value0 = np.pi  # 固定値\n",
    "    fixed_value1 = 2 * np.pi  # 固定値\n",
    "    \n",
    "    forarray = np.arange(n_features)\n",
    "    forones = np.ones((1, n_features))\n",
    "    forrandarray = forarray * forones\n",
    "    randarray = fixed_value0 * forrandarray\n",
    "    output2 = fixed_value1 + randarray\n",
    "    output3 = np.cos(output2) * 0.5 + 0.5\n",
    "\n",
    "    return torch.from_numpy(output3.astype(np.float32)).to(device)"
   ]
  },
  {
   "cell_type": "code",
   "execution_count": 30,
   "id": "eaa204fe-89a7-4f45-aa06-f4de9bcdb2de",
   "metadata": {},
   "outputs": [],
   "source": [
    "# Generate noise\n",
    "n_features = 36\n",
    "noise_input = sample_input(n_features, device=device)\n",
    "generated_images = generator(noise_input).cpu().detach()\n",
    "#generated_images = noise_input"
   ]
  },
  {
   "cell_type": "code",
   "execution_count": 31,
   "id": "caa52360-adf3-401c-ad0f-18f6e08a65be",
   "metadata": {},
   "outputs": [
    {
     "data": {
      "image/png": "[encoded data removed]",
      "text/plain": [
       "<Figure size 640x480 with 1 Axes>"
      ]
     },
     "metadata": {},
     "output_type": "display_data"
    }
   ],
   "source": [
    "# Plot image\n",
    "grid_img = make_grid(generated_images.view(-1, 1, 6, 6), nrow=8, normalize=True)\n",
    "plt.imshow(grid_img.permute(1, 2, 0).numpy(), cmap='gray')\n",
    "plt.title('Generated Images')\n",
    "plt.axis('off')\n",
    "plt.show()"
   ]
  },
  {
   "cell_type": "code",
   "execution_count": null,
   "id": "9e4022d2-91c3-4dc3-9a57-c1e546094186",
   "metadata": {},
   "outputs": [],
   "source": []
  }
 ],
 "metadata": {
  "kernelspec": {
   "display_name": "Python 3 (ipykernel)",
   "language": "python",
   "name": "python3"
  },
  "language_info": {
   "codemirror_mode": {
    "name": "ipython",
    "version": 3
   },
   "file_extension": ".py",
   "mimetype": "text/x-python",
   "name": "python",
   "nbconvert_exporter": "python",
   "pygments_lexer": "ipython3",
   "version": "3.10.8"
  }
 },
 "nbformat": 4,
 "nbformat_minor": 5
}
